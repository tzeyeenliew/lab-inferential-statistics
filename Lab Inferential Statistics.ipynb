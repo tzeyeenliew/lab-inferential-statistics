{
 "cells": [
  {
   "cell_type": "markdown",
   "id": "720b1a97",
   "metadata": {},
   "source": [
    "### Instructions\n",
    "#### It is assumed that the mean systolic blood pressure is μ = 120 mm Hg. In the Honolulu Heart Study, a sample of n = 100 people had an average systolic blood pressure of 130.1 mm Hg with a standard deviation of 21.21 mm Hg. Is the group significantly different (with respect to systolic blood pressure!) from the regular population?\n",
    "\n",
    "#### 1.Set up the hypothesis test.\n"
   ]
  },
  {
   "cell_type": "code",
   "execution_count": 4,
   "id": "082972c4",
   "metadata": {},
   "outputs": [],
   "source": [
    "import scipy.stats\n",
    "import math\n",
    "import pandas\n"
   ]
  },
  {
   "cell_type": "markdown",
   "id": "2bc680dc",
   "metadata": {},
   "source": [
    " (H<sub>0</sub>): X̄ = 120 mm Hg \n"
   ]
  },
  {
   "cell_type": "markdown",
   "id": "7a29c581",
   "metadata": {},
   "source": [
    " (H<sub>1</sub>): X̄ ≠ 120 mm Hg "
   ]
  },
  {
   "cell_type": "code",
   "execution_count": 11,
   "id": "68bc866d",
   "metadata": {},
   "outputs": [],
   "source": [
    "#### 2.Write down all the steps followed for setting up the test."
   ]
  },
  {
   "cell_type": "code",
   "execution_count": null,
   "id": "7be94209",
   "metadata": {},
   "outputs": [],
   "source": [
    "#### A one sample, two tailed test is applied as H1 proposes that the difference in blood pressure goes either way. As this is a medical scenario, an alpha(α) of 0.01 is chosen, which translates to a significance level of 99%. As the population standard deviation, represented by σ, is known -- we can use the a one sample two tailed t test."
   ]
  },
  {
   "cell_type": "markdown",
   "id": "a6b011e4",
   "metadata": {},
   "source": [
    "#### The formula for the test statistic is: T = (X̄ – μ) / σ/√n"
   ]
  },
  {
   "cell_type": "code",
   "execution_count": 12,
   "id": "2f3a7dc4",
   "metadata": {},
   "outputs": [],
   "source": [
    "population_mean= 120\n",
    "sample_mean= 130.1\n",
    "sample_size= 100\n",
    "sample_std_dev= 21.21\n",
    "α = 0.01/2 #two tailed test\n",
    "α= 0.005\n",
    "\n"
   ]
  },
  {
   "cell_type": "markdown",
   "id": "9a63ab41",
   "metadata": {},
   "source": [
    "#### Calculate the test statistic by hand and also code it in Python. It should be 4.76190. We will take a look at how to make decisions based on this calculated value."
   ]
  },
  {
   "cell_type": "code",
   "execution_count": 8,
   "id": "5863ac40",
   "metadata": {
    "scrolled": true
   },
   "outputs": [
    {
     "name": "stdout",
     "output_type": "stream",
     "text": [
      "4.761904761904759\n"
     ]
    }
   ],
   "source": [
    "t_stat= (sample_mean-population_mean)/(sample_std_dev/math.sqrt(sample_size)) #calculating the test statistic\n",
    "print(t_stat)"
   ]
  },
  {
   "cell_type": "code",
   "execution_count": null,
   "id": "8fccc02c",
   "metadata": {},
   "outputs": [],
   "source": [
    "#calculating the critical value with the degrees of freedom(df)\n",
    "\n",
    "df= (n-1)\n",
    "df= 100-1\n",
    "df= 99\n",
    "\n",
    "\n",
    "\n",
    "#### According to this <a href=\"<a href=\"https://openai.com\">OpenAI</a>\">T statistic reference table</a>, the critical values is: \n",
    "2.6269\n",
    "\n"
   ]
  },
  {
   "cell_type": "markdown",
   "id": "56002533",
   "metadata": {},
   "source": [
    "#### Interpreting the results\n",
    "\n",
    "#### As the test statistic is greater than the absolute critical value ( 4.762 > 2.627 ), we can therefore reject the null hypothesis. Therefore, there sufficient evidence to conclude that the mean systolic blood pressure of the sample is siginificantly different from that of the population.\n",
    "\n",
    "#### We can also compare the chosen alpha with the p-value, which represents the possibility of obtaining the observed test statistic under the null hypothesis.\n",
    "\n",
    "#### P-value = 0.00999\n",
    "\n",
    "#### As the p-value is less than the chosen alpha (0.01>0.00999), we can reject the null hypothesis.\n",
    "\n",
    "\n"
   ]
  },
  {
   "cell_type": "code",
   "execution_count": null,
   "id": "e1ce3650",
   "metadata": {},
   "outputs": [],
   "source": []
  }
 ],
 "metadata": {
  "kernelspec": {
   "display_name": "Python 3 (ipykernel)",
   "language": "python",
   "name": "python3"
  },
  "language_info": {
   "codemirror_mode": {
    "name": "ipython",
    "version": 3
   },
   "file_extension": ".py",
   "mimetype": "text/x-python",
   "name": "python",
   "nbconvert_exporter": "python",
   "pygments_lexer": "ipython3",
   "version": "3.9.13"
  }
 },
 "nbformat": 4,
 "nbformat_minor": 5
}
